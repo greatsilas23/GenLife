{
 "cells": [
  {
   "cell_type": "code",
   "execution_count": 8,
   "id": "bf2fdef9-41af-4d67-8ccb-f86e7b2b794b",
   "metadata": {},
   "outputs": [],
   "source": [
    "# --- 1. Setup ---\n",
    "import pandas as pd\n",
    "from sklearn.model_selection import train_test_split\n",
    "from sklearn.ensemble import RandomForestClassifier\n",
    "from sklearn.preprocessing import OneHotEncoder\n",
    "from sklearn.metrics import classification_report\n",
    "import joblib\n",
    "from IPython.display import display, Image"
   ]
  },
  {
   "cell_type": "code",
   "execution_count": 16,
   "id": "225f4edb-4f6f-4982-b23d-bb7305528d06",
   "metadata": {},
   "outputs": [
    {
     "name": "stdout",
     "output_type": "stream",
     "text": [
      "   Unnamed: 0        p_id                                               name  \\\n",
      "0           0  17048614.0  Khushal K Women Black Ethnic Motifs Printed Ku...   \n",
      "1           1  16524740.0  InWeave Women Orange Solid Kurta with Palazzos...   \n",
      "2           2  16331376.0  Anubhutee Women Navy Blue Ethnic Motifs Embroi...   \n",
      "3           3  14709966.0  Nayo Women Red Floral Printed Kurta With Trous...   \n",
      "4           4  11056154.0   AHIKA Women Black & Green Printed Straight Kurta   \n",
      "\n",
      "    price     colour      brand  \\\n",
      "0  5099.0      Black  Khushal K   \n",
      "1  5899.0     Orange    InWeave   \n",
      "2  4899.0  Navy Blue  Anubhutee   \n",
      "3  3699.0        Red       Nayo   \n",
      "4  1350.0      Black      AHIKA   \n",
      "\n",
      "                                                 img  ratingCount  avg_rating  \\\n",
      "0  http://assets.myntassets.com/assets/images/170...       4522.0    4.418399   \n",
      "1  http://assets.myntassets.com/assets/images/165...       1081.0    4.119334   \n",
      "2  http://assets.myntassets.com/assets/images/163...       1752.0    4.161530   \n",
      "3  http://assets.myntassets.com/assets/images/147...       4113.0    4.088986   \n",
      "4  http://assets.myntassets.com/assets/images/110...      21274.0    3.978377   \n",
      "\n",
      "                                         description  \\\n",
      "0  Black printed Kurta with Palazzos with dupatta...   \n",
      "1  Orange solid Kurta with Palazzos with dupatta<...   \n",
      "2  Navy blue embroidered Kurta with Trousers with...   \n",
      "3  Red printed kurta with trouser and dupatta<br>...   \n",
      "4  Black and green printed straight kurta, has a ...   \n",
      "\n",
      "                                        p_attributes  \n",
      "0  {'Add-Ons': 'NA', 'Body Shape ID': '443,333,32...  \n",
      "1  {'Add-Ons': 'NA', 'Body Shape ID': '443,333,32...  \n",
      "2  {'Add-Ons': 'NA', 'Body Shape ID': '333,424', ...  \n",
      "3  {'Add-Ons': 'NA', 'Body Shape ID': '333,424', ...  \n",
      "4  {'Body Shape ID': '424', 'Body or Garment Size...  \n"
     ]
    }
   ],
   "source": [
    "# Load dataset\n",
    "df = pd.read_csv(\"Fashion Dataset.csv\")\n",
    "print(df.head())"
   ]
  },
  {
   "cell_type": "code",
   "execution_count": 17,
   "id": "4039cfb3-b310-4c62-9320-c44c9feebc03",
   "metadata": {},
   "outputs": [],
   "source": [
    "# --- 2. Categorize items ---\n",
    "def categorize_item(name, attributes):\n",
    "    text = f\"{name} {attributes}\".lower()\n",
    "    if any(word in text for word in [\"shirt\", \"t-shirt\", \"top\", \"blouse\", \"kurta\"]):\n",
    "        return \"top\"\n",
    "    elif any(word in text for word in [\"jeans\", \"trouser\", \"shorts\", \"pants\", \"skirt\", \"palazzo\"]):\n",
    "        return \"bottom\"\n",
    "    elif any(word in text for word in [\"shoe\", \"sneaker\", \"boot\", \"slipper\", \"heel\", \"sandal\"]):\n",
    "        return \"shoes\"\n",
    "    else:\n",
    "        return \"other\"\n",
    "\n",
    "df[\"category\"] = df.apply(lambda row: categorize_item(row[\"name\"], row[\"p_attributes\"]), axis=1)\n",
    "\n",
    "# Keep only useful categories\n",
    "df = df[df[\"category\"].isin([\"top\", \"bottom\", \"shoes\"])]"
   ]
  },
  {
   "cell_type": "code",
   "execution_count": 11,
   "id": "de02d4e9-7472-4772-bdbd-0c4238710cc4",
   "metadata": {},
   "outputs": [
    {
     "name": "stdout",
     "output_type": "stream",
     "text": [
      "              precision    recall  f1-score   support\n",
      "\n",
      "      bottom       0.76      0.62      0.68       742\n",
      "       shoes       0.00      0.00      0.00         5\n",
      "         top       0.80      0.89      0.84      1295\n",
      "\n",
      "    accuracy                           0.79      2042\n",
      "   macro avg       0.52      0.50      0.51      2042\n",
      "weighted avg       0.78      0.79      0.78      2042\n",
      "\n"
     ]
    },
    {
     "name": "stderr",
     "output_type": "stream",
     "text": [
      "C:\\Users\\Silas\\AppData\\Local\\Programs\\Python\\Python312\\Lib\\site-packages\\sklearn\\metrics\\_classification.py:1565: UndefinedMetricWarning: Precision is ill-defined and being set to 0.0 in labels with no predicted samples. Use `zero_division` parameter to control this behavior.\n",
      "  _warn_prf(average, modifier, f\"{metric.capitalize()} is\", len(result))\n",
      "C:\\Users\\Silas\\AppData\\Local\\Programs\\Python\\Python312\\Lib\\site-packages\\sklearn\\metrics\\_classification.py:1565: UndefinedMetricWarning: Precision is ill-defined and being set to 0.0 in labels with no predicted samples. Use `zero_division` parameter to control this behavior.\n",
      "  _warn_prf(average, modifier, f\"{metric.capitalize()} is\", len(result))\n",
      "C:\\Users\\Silas\\AppData\\Local\\Programs\\Python\\Python312\\Lib\\site-packages\\sklearn\\metrics\\_classification.py:1565: UndefinedMetricWarning: Precision is ill-defined and being set to 0.0 in labels with no predicted samples. Use `zero_division` parameter to control this behavior.\n",
      "  _warn_prf(average, modifier, f\"{metric.capitalize()} is\", len(result))\n"
     ]
    }
   ],
   "source": [
    "# --- 3. Feature Engineering ---\n",
    "X = df[[\"colour\", \"brand\"]].fillna(\"Unknown\")\n",
    "y = df[\"category\"]\n",
    "\n",
    "# One-Hot Encode categorical vars\n",
    "encoder = OneHotEncoder(handle_unknown=\"ignore\")\n",
    "X_encoded = encoder.fit_transform(X)\n",
    "\n",
    "# --- 4. Train/Test Split ---\n",
    "X_train, X_test, y_train, y_test = train_test_split(X_encoded, y, test_size=0.2, random_state=42)\n",
    "\n",
    "# --- 5. Train Random Forest ---\n",
    "rf = RandomForestClassifier(n_estimators=100, random_state=42)\n",
    "rf.fit(X_train, y_train)\n",
    "\n",
    "# --- 6. Evaluate ---\n",
    "y_pred = rf.predict(X_test)\n",
    "print(classification_report(y_test, y_pred))"
   ]
  },
  {
   "cell_type": "code",
   "execution_count": 12,
   "id": "9384d25c-d588-4de1-84d2-88a8420dd165",
   "metadata": {},
   "outputs": [
    {
     "name": "stdout",
     "output_type": "stream",
     "text": [
      "✅ Random Forest model saved as outfit_rf_model.joblib\n"
     ]
    }
   ],
   "source": [
    "# --- 7. Save Model ---\n",
    "joblib.dump((rf, encoder), \"outfit_rf_model.joblib\")\n",
    "print(\"✅ Random Forest model saved as outfit_rf_model.joblib\")"
   ]
  },
  {
   "cell_type": "code",
   "execution_count": 13,
   "id": "95e467d3-749c-4411-9c02-286cd64f5943",
   "metadata": {},
   "outputs": [],
   "source": [
    "# --- 8. Use Model for Outfit Suggestions ---\n",
    "def suggest_outfit_with_ml(preferred_colour=None):\n",
    "    rf, encoder = joblib.load(\"outfit_rf_model.joblib\")\n",
    "\n",
    "    outfit = {}\n",
    "    for cat in [\"top\", \"bottom\", \"shoes\"]:\n",
    "        candidates = df[df[\"category\"] == cat]\n",
    "        if preferred_colour:\n",
    "            candidates = candidates[candidates[\"colour\"].str.contains(preferred_colour, case=False, na=False)]\n",
    "        if candidates.empty:\n",
    "            candidates = df[df[\"category\"] == cat]\n",
    "        sample = candidates.sample(1)\n",
    "        \n",
    "        # Predict category (just for demonstration)\n",
    "        X_new = encoder.transform(sample[[\"colour\", \"brand\"]].fillna(\"Unknown\"))\n",
    "        predicted_cat = rf.predict(X_new)[0]\n",
    "        \n",
    "        item = sample.iloc[0].to_dict()\n",
    "        item[\"predicted_category\"] = predicted_cat\n",
    "        outfit[cat] = item\n",
    "    return outfit"
   ]
  },
  {
   "cell_type": "code",
   "execution_count": 14,
   "id": "637850db-c5d9-4d3a-8467-ca048ca68832",
   "metadata": {},
   "outputs": [
    {
     "name": "stdout",
     "output_type": "stream",
     "text": [
      "\n",
      "TOP (Predicted: top):\n",
      "Name: Bitiya by Bhama Black Ready to Wear Lehenga with Blouse\n",
      "Brand: Bitiya by Bhama\n",
      "Colour: Black\n",
      "Price: 3749.0\n",
      "Rating: 4.166666666666667 (30.0 reviews)\n"
     ]
    },
    {
     "data": {
      "text/html": [
       "<img src=\"http://assets.myntassets.com/assets/images/14432226/2021/9/29/db9ad708-4f09-4356-b7af-1999b623137b1632914998803BitiyabyBhamaBlackReadytoWearLehengawithBlouse1.jpg\" width=\"200\"/>"
      ],
      "text/plain": [
       "<IPython.core.display.Image object>"
      ]
     },
     "metadata": {},
     "output_type": "display_data"
    },
    {
     "name": "stdout",
     "output_type": "stream",
     "text": [
      "\n",
      "BOTTOM (Predicted: bottom):\n",
      "Name: Miss Chase Women Black Skinny Fit High-Rise Clean Look Jeans\n",
      "Brand: Miss Chase\n",
      "Colour: Black\n",
      "Price: 1899.0\n",
      "Rating: 4.430769230769231 (65.0 reviews)\n"
     ]
    },
    {
     "data": {
      "text/html": [
       "<img src=\"http://assets.myntassets.com/assets/images/productimage/2018/12/29/e1b29c0e-ed4f-4941-a7ab-70740f1f7c5d1546081085530-2.jpg\" width=\"200\"/>"
      ],
      "text/plain": [
       "<IPython.core.display.Image object>"
      ]
     },
     "metadata": {},
     "output_type": "display_data"
    },
    {
     "name": "stdout",
     "output_type": "stream",
     "text": [
      "\n",
      "SHOES (Predicted: top):\n",
      "Name: Ahalyaa Women Stunning Black Printed Desi Girl Jumpsuit\n",
      "Brand: Ahalyaa\n",
      "Colour: Black\n",
      "Price: 6100.0\n",
      "Rating: nan (nan reviews)\n"
     ]
    },
    {
     "data": {
      "text/html": [
       "<img src=\"http://assets.myntassets.com/assets/images/18851398/2022/7/4/5a344dd5-e539-4381-ab61-4771c42140361656932907339-Ahalyaa-Women-Jumpsuit-541656932906876-1.jpg\" width=\"200\"/>"
      ],
      "text/plain": [
       "<IPython.core.display.Image object>"
      ]
     },
     "metadata": {},
     "output_type": "display_data"
    }
   ],
   "source": [
    "# --- 9. Display Outfit with Images ---\n",
    "def show_outfit(outfit):\n",
    "    for cat, item in outfit.items():\n",
    "        print(f\"\\n{cat.upper()} (Predicted: {item['predicted_category']}):\")\n",
    "        print(f\"Name: {item['name']}\")\n",
    "        print(f\"Brand: {item['brand']}\")\n",
    "        print(f\"Colour: {item['colour']}\")\n",
    "        print(f\"Price: {item['price']}\")\n",
    "        print(f\"Rating: {item['avg_rating']} ({item['ratingCount']} reviews)\")\n",
    "        display(Image(url=item['img'], width=200))\n",
    "\n",
    "# Example usage\n",
    "outfit = suggest_outfit_with_ml(preferred_colour=\"Black\")\n",
    "show_outfit(outfit)"
   ]
  },
  {
   "cell_type": "code",
   "execution_count": null,
   "id": "41c8f77e-93fe-486a-9c06-ea10010f448f",
   "metadata": {},
   "outputs": [],
   "source": []
  }
 ],
 "metadata": {
  "kernelspec": {
   "display_name": "Python 3 (ipykernel)",
   "language": "python",
   "name": "python3"
  },
  "language_info": {
   "codemirror_mode": {
    "name": "ipython",
    "version": 3
   },
   "file_extension": ".py",
   "mimetype": "text/x-python",
   "name": "python",
   "nbconvert_exporter": "python",
   "pygments_lexer": "ipython3",
   "version": "3.12.8"
  }
 },
 "nbformat": 4,
 "nbformat_minor": 5
}
